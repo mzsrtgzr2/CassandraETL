{
 "cells": [
  {
   "cell_type": "markdown",
   "source": [
    "# Part I. ETL Pipeline for Pre-Processing the Files"
   ],
   "metadata": {}
  },
  {
   "cell_type": "markdown",
   "source": [
    "## PLEASE RUN THE FOLLOWING CODE FOR PRE-PROCESSING THE FILES"
   ],
   "metadata": {}
  },
  {
   "cell_type": "markdown",
   "source": [
    "#### Import Python packages "
   ],
   "metadata": {}
  },
  {
   "cell_type": "code",
   "execution_count": 89,
   "source": [
    "# Import Python packages \n",
    "import pandas as pd\n",
    "import cassandra\n",
    "import re\n",
    "import os\n",
    "import glob\n",
    "import numpy as np\n",
    "import json\n",
    "import csv"
   ],
   "outputs": [],
   "metadata": {}
  },
  {
   "cell_type": "markdown",
   "source": [
    "#### Creating list of filepaths to process original event csv data files"
   ],
   "metadata": {}
  },
  {
   "cell_type": "code",
   "execution_count": 90,
   "source": [
    "# checking your current working directory\n",
    "print(os.getcwd())\n",
    "\n",
    "# Get your current folder and subfolder event data\n",
    "filepath = os.getcwd() + '/event_data'\n",
    "\n",
    "# Create a for loop to create a list of files and collect each filepath\n",
    "for root, dirs, files in os.walk(filepath):\n",
    "    \n",
    "# join the file path and roots with the subdirectories using glob\n",
    "    file_path_list = glob.glob(os.path.join(root,'*'))\n",
    "    #print(file_path_list)"
   ],
   "outputs": [
    {
     "output_type": "stream",
     "name": "stdout",
     "text": [
      "/Users/mrot/workspace/udacity-data-nd/01-cassandra\n"
     ]
    }
   ],
   "metadata": {}
  },
  {
   "cell_type": "markdown",
   "source": [
    "#### Processing the files to create the data file csv that will be used for Apache Casssandra tables"
   ],
   "metadata": {}
  },
  {
   "cell_type": "code",
   "execution_count": 91,
   "source": [
    "# initiating an empty list of rows that will be generated from each file\n",
    "full_data_rows_list = [] \n",
    "    \n",
    "# for every filepath in the file path list \n",
    "for f in file_path_list:\n",
    "\n",
    "# reading csv file \n",
    "    with open(f, 'r', encoding = 'utf8', newline='') as csvfile: \n",
    "        # creating a csv reader object \n",
    "        csvreader = csv.reader(csvfile) \n",
    "        next(csvreader)\n",
    "        \n",
    " # extracting each data row one by one and append it        \n",
    "        for line in csvreader:\n",
    "            #print(line)\n",
    "            full_data_rows_list.append(line) \n",
    "            \n",
    "# uncomment the code below if you would like to get total number of rows \n",
    "#print(len(full_data_rows_list))\n",
    "# uncomment the code below if you would like to check to see what the list of event data rows will look like\n",
    "#print(full_data_rows_list)\n",
    "\n",
    "# creating a smaller event data csv file called event_datafile_full csv that will be used to insert data into the \\\n",
    "# Apache Cassandra tables\n",
    "csv.register_dialect('myDialect', quoting=csv.QUOTE_ALL, skipinitialspace=True)\n",
    "\n",
    "with open('event_datafile_new.csv', 'w', encoding = 'utf8', newline='') as f:\n",
    "    writer = csv.writer(f, dialect='myDialect')\n",
    "    writer.writerow(['artist','firstName','gender','itemInSession','lastName','length',\\\n",
    "                'level','location','sessionId','song','userId'])\n",
    "    for row in full_data_rows_list:\n",
    "        if (row[0] == ''):\n",
    "            continue\n",
    "        writer.writerow((row[0], row[2], row[3], row[4], row[5], row[6], row[7], row[8], row[12], row[13], row[16]))\n"
   ],
   "outputs": [],
   "metadata": {}
  },
  {
   "cell_type": "code",
   "execution_count": 92,
   "source": [
    "# check the number of rows in your csv file\n",
    "with open('event_datafile_new.csv', 'r', encoding = 'utf8') as f:\n",
    "    print(sum(1 for line in f))"
   ],
   "outputs": [
    {
     "output_type": "stream",
     "name": "stdout",
     "text": [
      "6821\n"
     ]
    }
   ],
   "metadata": {}
  },
  {
   "cell_type": "markdown",
   "source": [
    "# Part II. Complete the Apache Cassandra coding portion of your project. \n",
    "\n",
    "## Now you are ready to work with the CSV file titled <font color=red>event_datafile_new.csv</font>, located within the Workspace directory.  The event_datafile_new.csv contains the following columns: \n",
    "- artist \n",
    "- firstName of user\n",
    "- gender of user\n",
    "- item number in session\n",
    "- last name of user\n",
    "- length of the song\n",
    "- level (paid or free song)\n",
    "- location of the user\n",
    "- sessionId\n",
    "- song title\n",
    "- userId\n",
    "\n",
    "The image below is a screenshot of what the denormalized data should appear like in the <font color=red>**event_datafile_new.csv**</font> after the code above is run:<br>\n",
    "\n",
    "<img src=\"images/image_event_datafile_new.jpg\">"
   ],
   "metadata": {}
  },
  {
   "cell_type": "markdown",
   "source": [
    "## Begin writing your Apache Cassandra code in the cells below"
   ],
   "metadata": {}
  },
  {
   "cell_type": "markdown",
   "source": [
    "#### Creating a Cluster"
   ],
   "metadata": {}
  },
  {
   "cell_type": "code",
   "execution_count": 93,
   "source": [
    "# This should make a connection to a Cassandra instance your local machine \n",
    "# (127.0.0.1)\n",
    "\n",
    "from cassandra.cluster import Cluster\n",
    "cluster = Cluster()\n",
    "\n",
    "# To establish connection and begin executing queries, need a session\n",
    "session = cluster.connect()"
   ],
   "outputs": [],
   "metadata": {}
  },
  {
   "cell_type": "markdown",
   "source": [
    "#### Create Keyspace"
   ],
   "metadata": {}
  },
  {
   "cell_type": "code",
   "execution_count": 94,
   "source": [
    "# TO-DO: Create a Keyspace \n",
    "session.execute('CREATE KEYSPACE \"ks_moshe\" WITH replication = {\\'class\\': \\'SimpleStrategy\\', \\'replication_factor\\' : 1};')"
   ],
   "outputs": [
    {
     "output_type": "execute_result",
     "data": {
      "text/plain": [
       "<cassandra.cluster.ResultSet at 0x7fb863ebdf50>"
      ]
     },
     "metadata": {},
     "execution_count": 94
    }
   ],
   "metadata": {}
  },
  {
   "cell_type": "markdown",
   "source": [
    "#### Set Keyspace"
   ],
   "metadata": {}
  },
  {
   "cell_type": "code",
   "execution_count": 95,
   "source": [
    "# TO-DO: Set KEYSPACE to the keyspace specified above\n",
    "session.set_keyspace('ks_moshe')"
   ],
   "outputs": [],
   "metadata": {}
  },
  {
   "cell_type": "markdown",
   "source": [
    "### Now we need to create tables to run the following queries. Remember, with Apache Cassandra you model the database tables on the queries you want to run."
   ],
   "metadata": {}
  },
  {
   "cell_type": "markdown",
   "source": [
    "## Create queries to ask the following three questions of the data\n",
    "\n",
    "### 1. Give me the artist, song title and song's length in the music app history that was heard during  sessionId = 338, and itemInSession  = 4\n",
    "\n",
    "\n",
    "### 2. Give me only the following: name of artist, song (sorted by itemInSession) and user (first and last name) for userid = 10, sessionid = 182\n",
    "    \n",
    "\n",
    "### 3. Give me every user name (first and last) in my music app history who listened to the song 'All Hands Against His Own'\n",
    "\n",
    "\n"
   ],
   "metadata": {}
  },
  {
   "cell_type": "code",
   "execution_count": 96,
   "source": [
    "## TO-DO: Query 1:  Give me the artist, song title and song's length in the music app history that was heard during \\\n",
    "## sessionId = 338, and itemInSession = 4\n",
    "q1 = 'select artist, song, length from music_table1 where sessionId = 338 and itemInSession = 4'\n",
    "\n",
    "\n",
    "                    "
   ],
   "outputs": [],
   "metadata": {}
  },
  {
   "cell_type": "code",
   "execution_count": 97,
   "source": [
    "q = ('CREATE TABLE IF NOT EXISTS music_table1 '\n",
    "    '(artist varchar, firstName varchar, gender varchar, itemInSession int, lastName varchar, length float,'\n",
    "    'level varchar, location varchar, sessionId int, song varchar, userId int,'\n",
    "        ' PRIMARY KEY (sessionId, ItemInSession))')\n",
    "print('running query', q)\n",
    "session.execute(q)"
   ],
   "outputs": [
    {
     "output_type": "stream",
     "name": "stdout",
     "text": [
      "running query CREATE TABLE IF NOT EXISTS music_table1 (artist varchar, firstName varchar, gender varchar, itemInSession int, lastName varchar, length float,level varchar, location varchar, sessionId int, song varchar, userId int, PRIMARY KEY (sessionId, ItemInSession))\n"
     ]
    },
    {
     "output_type": "execute_result",
     "data": {
      "text/plain": [
       "<cassandra.cluster.ResultSet at 0x7fb864033310>"
      ]
     },
     "metadata": {},
     "execution_count": 97
    }
   ],
   "metadata": {}
  },
  {
   "cell_type": "code",
   "execution_count": 98,
   "source": [
    "# We have provided part of the code to set up the CSV file. Please complete the Apache Cassandra code below#\n",
    "file = 'event_datafile_new.csv'\n",
    "\n",
    "cols = [\n",
    "    'artist','firstName','gender','itemInSession','lastName','length',\n",
    "    'level','location','sessionId','song','userId'\n",
    "]\n",
    "query = f\"INSERT INTO music_table1 ({','.join(cols)})\"\n",
    "query = query + \" VALUES (\" + ','.join(['%s']*len(cols)) + \")\"\n",
    "\n",
    "print('INSERT QUERY FORMAT IS', query)\n",
    "with open(file, encoding = 'utf8') as f:\n",
    "    csvreader = csv.reader(f)\n",
    "    next(csvreader) # skip header\n",
    "    for line in csvreader:\n",
    "## TO-DO: Assign the INSERT statements into the `query` variable\n",
    "        ## TO-DO: Assign which column element should be assigned for each column in the INSERT statement.\n",
    "        ## For e.g., to INSERT artist_name and user first_name, you would change the code below to `line[0], line[1]`\n",
    "        session.execute(\n",
    "            query,\n",
    "            [   line[0],\n",
    "                line[1],\n",
    "                line[2],\n",
    "                int(line[3]),\n",
    "                line[4],\n",
    "                float(line[5]),\n",
    "                line[6],\n",
    "                line[7],\n",
    "                int(line[8]),\n",
    "                line[9],\n",
    "                int(line[10]),]\n",
    "            )"
   ],
   "outputs": [
    {
     "output_type": "stream",
     "name": "stdout",
     "text": [
      "INSERT QUERY FORMAT IS INSERT INTO music_table1 (artist,firstName,gender,itemInSession,lastName,length,level,location,sessionId,song,userId) VALUES (%s,%s,%s,%s,%s,%s,%s,%s,%s,%s,%s)\n"
     ]
    }
   ],
   "metadata": {
    "scrolled": false
   }
  },
  {
   "cell_type": "markdown",
   "source": [
    "#### Do a SELECT to verify that the data have been inserted into each table"
   ],
   "metadata": {}
  },
  {
   "cell_type": "code",
   "execution_count": 99,
   "source": [
    "## TO-DO: Add in the SELECT statement to verify the data was entered into the table\n",
    "for i, row in enumerate(session.execute(q1)):\n",
    "    print(i, row)"
   ],
   "outputs": [
    {
     "output_type": "stream",
     "name": "stdout",
     "text": [
      "0 Row(artist='Faithless', song='Music Matters (Mark Knight Dub)', length=495.30731201171875)\n"
     ]
    }
   ],
   "metadata": {
    "scrolled": true
   }
  },
  {
   "cell_type": "markdown",
   "source": [
    "### COPY AND REPEAT THE ABOVE THREE CELLS FOR EACH OF THE THREE QUESTIONS"
   ],
   "metadata": {}
  },
  {
   "cell_type": "code",
   "execution_count": 100,
   "source": [
    "## TO-DO: Query 2: Give me only the following: name of artist, song (sorted by itemInSession) and user (first and last name)\\\n",
    "## for userid = 10, sessionid = 182\n",
    "\n",
    "q2 = 'select artist, song, firstName, lastName from music_table2 where userId=10 and sessionId=182'\n",
    "\n",
    "q = ('CREATE TABLE IF NOT EXISTS music_table2 '\n",
    "    '(artist varchar, firstName varchar, gender varchar, itemInSession int, lastName varchar, length float,'\n",
    "    'level varchar, location varchar, sessionId int, song varchar, userId int,'\n",
    "        ' PRIMARY KEY (userId, sessionId))')\n",
    "print('running query', q)\n",
    "session.execute(q)\n",
    "\n",
    "\n",
    "query = f\"INSERT INTO music_table2 ({','.join(cols)})\"\n",
    "query = query + \" VALUES (\" + ','.join(['%s']*len(cols)) + \")\"\n",
    "\n",
    "print('INSERT QUERY FORMAT IS', query)\n",
    "with open(file, encoding = 'utf8') as f:\n",
    "    csvreader = csv.reader(f)\n",
    "    next(csvreader) # skip header\n",
    "    for line in csvreader:\n",
    "## TO-DO: Assign the INSERT statements into the `query` variable\n",
    "        ## TO-DO: Assign which column element should be assigned for each column in the INSERT statement.\n",
    "        ## For e.g., to INSERT artist_name and user first_name, you would change the code below to `line[0], line[1]`\n",
    "        session.execute(\n",
    "            query,\n",
    "            [   line[0],\n",
    "                line[1],\n",
    "                line[2],\n",
    "                int(line[3]),\n",
    "                line[4],\n",
    "                float(line[5]),\n",
    "                line[6],\n",
    "                line[7],\n",
    "                int(line[8]),\n",
    "                line[9],\n",
    "                int(line[10]),]\n",
    "            )\n",
    "\n",
    "for i, row in enumerate(session.execute(q2)):\n",
    "    print(i, row)   "
   ],
   "outputs": [
    {
     "output_type": "stream",
     "name": "stdout",
     "text": [
      "running query CREATE TABLE IF NOT EXISTS music_table2 (artist varchar, firstName varchar, gender varchar, itemInSession int, lastName varchar, length float,level varchar, location varchar, sessionId int, song varchar, userId int, PRIMARY KEY (userId, sessionId))\n",
      "INSERT QUERY FORMAT IS INSERT INTO music_table2 (artist,firstName,gender,itemInSession,lastName,length,level,location,sessionId,song,userId) VALUES (%s,%s,%s,%s,%s,%s,%s,%s,%s,%s,%s)\n",
      "0 Row(artist='Lonnie Gordon', song='Catch You Baby (Steve Pitron & Max Sanna Radio Edit)', firstname='Sylvie', lastname='Cruz')\n"
     ]
    }
   ],
   "metadata": {}
  },
  {
   "cell_type": "code",
   "execution_count": 101,
   "source": [
    "## TO-DO: Query 3: Give me every user name (first and last) in my music app history who listened to the song 'All Hands Against His Own'\n",
    "q3 = 'select firstName, lastName from music_table3 where song=\\'All Hands Against His Own\\''\n",
    "\n",
    "\n",
    "q = ('CREATE TABLE IF NOT EXISTS music_table3 '\n",
    "    '(artist varchar, firstName varchar, gender varchar, itemInSession int, lastName varchar, length float,'\n",
    "    'level varchar, location varchar, sessionId int, song varchar, userId int,'\n",
    "        ' PRIMARY KEY (song, firstName, lastName))')\n",
    "\n",
    "print('running query', q)\n",
    "session.execute(q)\n",
    "\n",
    "\n",
    "query = f\"INSERT INTO music_table3 ({','.join(cols)})\"\n",
    "query = query + \" VALUES (\" + ','.join(['%s']*len(cols)) + \")\"\n",
    "\n",
    "print('INSERT QUERY FORMAT IS', query)\n",
    "with open(file, encoding = 'utf8') as f:\n",
    "    csvreader = csv.reader(f)\n",
    "    next(csvreader) # skip header\n",
    "    for line in csvreader:\n",
    "## TO-DO: Assign the INSERT statements into the `query` variable\n",
    "        ## TO-DO: Assign which column element should be assigned for each column in the INSERT statement.\n",
    "        ## For e.g., to INSERT artist_name and user first_name, you would change the code below to `line[0], line[1]`\n",
    "        session.execute(\n",
    "            query,\n",
    "            [   line[0],\n",
    "                line[1],\n",
    "                line[2],\n",
    "                int(line[3]),\n",
    "                line[4],\n",
    "                float(line[5]),\n",
    "                line[6],\n",
    "                line[7],\n",
    "                int(line[8]),\n",
    "                line[9],\n",
    "                int(line[10]),]\n",
    "            )\n",
    "\n",
    "for i, row in enumerate(session.execute(q3)):\n",
    "    print(i, row)"
   ],
   "outputs": [
    {
     "output_type": "stream",
     "name": "stdout",
     "text": [
      "running query CREATE TABLE IF NOT EXISTS music_table3 (artist varchar, firstName varchar, gender varchar, itemInSession int, lastName varchar, length float,level varchar, location varchar, sessionId int, song varchar, userId int, PRIMARY KEY (song, firstName, lastName))\n",
      "INSERT QUERY FORMAT IS INSERT INTO music_table3 (artist,firstName,gender,itemInSession,lastName,length,level,location,sessionId,song,userId) VALUES (%s,%s,%s,%s,%s,%s,%s,%s,%s,%s,%s)\n",
      "0 Row(firstname='Jacqueline', lastname='Lynch')\n",
      "1 Row(firstname='Sara', lastname='Johnson')\n",
      "2 Row(firstname='Tegan', lastname='Levine')\n"
     ]
    }
   ],
   "metadata": {}
  },
  {
   "cell_type": "markdown",
   "source": [
    "### Drop the tables before closing out the sessions"
   ],
   "metadata": {}
  },
  {
   "cell_type": "code",
   "execution_count": 102,
   "source": [
    "session.execute('DROP table music_table1')\n",
    "session.execute('DROP table music_table2')\n",
    "session.execute('DROP table music_table3')\n",
    "session.execute('DROP keyspace ks_moshe')"
   ],
   "outputs": [
    {
     "output_type": "execute_result",
     "data": {
      "text/plain": [
       "<cassandra.cluster.ResultSet at 0x7fb864024e90>"
      ]
     },
     "metadata": {},
     "execution_count": 102
    }
   ],
   "metadata": {}
  },
  {
   "cell_type": "markdown",
   "source": [
    "### Close the session and cluster connection¶"
   ],
   "metadata": {}
  },
  {
   "cell_type": "code",
   "execution_count": 103,
   "source": [
    "session.shutdown()\n",
    "cluster.shutdown()"
   ],
   "outputs": [],
   "metadata": {}
  },
  {
   "cell_type": "code",
   "execution_count": null,
   "source": [],
   "outputs": [],
   "metadata": {}
  }
 ],
 "metadata": {
  "kernelspec": {
   "name": "python3",
   "display_name": "Python 3.7.10 64-bit (conda)"
  },
  "language_info": {
   "codemirror_mode": {
    "name": "ipython",
    "version": 3
   },
   "file_extension": ".py",
   "mimetype": "text/x-python",
   "name": "python",
   "nbconvert_exporter": "python",
   "pygments_lexer": "ipython3",
   "version": "3.7.10"
  },
  "interpreter": {
   "hash": "4145d0982b35f417ed07b222f4a7a8c42be178bf00edb29c0a64c86bb4ba609e"
  }
 },
 "nbformat": 4,
 "nbformat_minor": 2
}